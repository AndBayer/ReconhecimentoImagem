{
 "cells": [
  {
   "cell_type": "code",
   "execution_count": 5,
   "id": "6a2edde3",
   "metadata": {},
   "outputs": [],
   "source": [
    "import cv2\n",
    "import mediapipe as mp\n",
    "\n",
    "\n",
    "# Vincular a webcam ao python\n",
    "webcam = cv2.VideoCapture(0) # cria a conexão com a webcam\n",
    "\n",
    "# Inicializando o mediapipe\n",
    "reconhecimento_maos = mp.solutions.hands\n",
    "desenho_mp = mp.solutions.drawing_utils\n",
    "maos = reconhecimento_maos.Hands()\n",
    "\n",
    "if webcam.isOpened():\n",
    "    validacao, frame = webcam.read()\n",
    "    while validacao:\n",
    "        #pegar o prox frame\n",
    "        validacao, frame = webcam.read()\n",
    "        \n",
    "        #converte o BGR (padrao do opencv) em RGB (padrao do mediapipe)\n",
    "        frameRGB = cv2.cvtColor(frame, cv2.COLOR_BGR2RGB)\n",
    "        \n",
    "        lista_maos = maos.process(frameRGB)\n",
    "        if lista_maos.multi_hand_landmarks:\n",
    "            for mao in lista_maos.multi_hand_landmarks:\n",
    "                desenho_mp.draw_landmarks(frame, mao, reconhecimento_maos.HAND_CONNECTIONS)\n",
    "        \n",
    "        #mostrar o frame da webcam que o python ta vendo\n",
    "        cv2.imshow(\"Minha WebCam\", frame)\n",
    "        \n",
    "        #mandar o python esperar um pouquinho -> de um jeito inteligente\n",
    "        tecla = cv2.waitKey(2) #deixa o video em 30fps\n",
    "        \n",
    "        # mandar ele parar o código se eu clicar no ESC\n",
    "        if tecla == 27 or webcam.quit():\n",
    "            break\n",
    "        \n",
    "webcam.release()\n",
    "cv2.destroyAllWindows()"
   ]
  },
  {
   "cell_type": "code",
   "execution_count": null,
   "id": "9de19895",
   "metadata": {},
   "outputs": [],
   "source": []
  }
 ],
 "metadata": {
  "kernelspec": {
   "display_name": "Python 3 (ipykernel)",
   "language": "python",
   "name": "python3"
  },
  "language_info": {
   "codemirror_mode": {
    "name": "ipython",
    "version": 3
   },
   "file_extension": ".py",
   "mimetype": "text/x-python",
   "name": "python",
   "nbconvert_exporter": "python",
   "pygments_lexer": "ipython3",
   "version": "3.9.7"
  }
 },
 "nbformat": 4,
 "nbformat_minor": 5
}
